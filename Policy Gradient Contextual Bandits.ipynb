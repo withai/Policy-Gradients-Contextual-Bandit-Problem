{
 "cells": [
  {
   "cell_type": "markdown",
   "metadata": {},
   "source": [
    "## Solving Contextual Bandit problem using Policy Gradients"
   ]
  },
  {
   "cell_type": "markdown",
   "metadata": {},
   "source": [
    "Import Libraries"
   ]
  },
  {
   "cell_type": "code",
   "execution_count": 1,
   "metadata": {
    "collapsed": true
   },
   "outputs": [],
   "source": [
    "import tensorflow as tf\n",
    "import tensorflow.contrib.slim as slim\n",
    "import numpy as np"
   ]
  },
  {
   "cell_type": "markdown",
   "metadata": {},
   "source": [
    "The problem : Contextual Bandits\n",
    "    \n",
    "*  The environment consists of several states(bandits) and are independent of each other. \n",
    "*  Given a state(bandit) the agent understands the environment and tries to make best possible action(pull arm) which results in better rewards."
   ]
  },
  {
   "cell_type": "code",
   "execution_count": 2,
   "metadata": {
    "collapsed": true
   },
   "outputs": [],
   "source": [
    "class contextual_bandit():\n",
    "    def __init__(self):\n",
    "        self.state = 0\n",
    "        self.bandits = np.array([[0.2, 0.0, -0.0, -5], [0.1, -5, 1, 0.25], [-5, 5, 5, 5]])\n",
    "        self.num_bandits = self.bandits.shape[0]\n",
    "        self.num_actions = self.bandits.shape[1]\n",
    "        \n",
    "    def getBandit(self):\n",
    "        #Choosing a random bandit \n",
    "        self.state = np.random.randint(0, self.num_bandits)\n",
    "        return self.state\n",
    "    \n",
    "    def pullArm(self, action):\n",
    "        #\n",
    "        bandit = self.bandits[self.state, action]\n",
    "        result = np.random.randn(1)\n",
    "        if(result > bandit):\n",
    "            return 1\n",
    "        else:\n",
    "            return -1"
   ]
  },
  {
   "cell_type": "markdown",
   "metadata": {},
   "source": [
    "Let's define the agent..."
   ]
  },
  {
   "cell_type": "code",
   "execution_count": 3,
   "metadata": {
    "collapsed": true
   },
   "outputs": [],
   "source": [
    "class agent():\n",
    "    def __init__(self, lr, s_size, a_size):\n",
    "        #defining feed-forward network which takes states as input and produce action as output.\n",
    "        self.state_in = tf.placeholder(shape=[1], dtype=tf.int32)\n",
    "        state_in_OH = slim.one_hot_encoding(self.state_in, s_size)\n",
    "        output = slim.fully_connected(state_in_OH, a_size, biases_initializer=None, activation_fn=tf.nn.sigmoid, weights_initializer=tf.ones_initializer())\n",
    "        self.output = tf.reshape(output, [-1])\n",
    "        self.choosen_action = tf.argmax(self.output, 0)\n",
    "        \n",
    "        #We train the neural network by feeding the reward and choosen action to compute loss and therefore update the network\n",
    "        self.reward_holder = tf.placeholder(shape=[1], dtype=tf.float32)\n",
    "        self.action_holder = tf.placeholder(shape=[1], dtype=tf.int32)\n",
    "        self.responsible_weight = tf.slice(self.output, self.action_holder, [1])\n",
    "        self.loss = -(tf.log(self.responsible_weight) * self.reward_holder)\n",
    "        optimizer = tf.train.GradientDescentOptimizer(learning_rate=lr)\n",
    "        self.update = optimizer.minimize(self.loss)"
   ]
  },
  {
   "cell_type": "markdown",
   "metadata": {},
   "source": [
    "Training the agent:"
   ]
  },
  {
   "cell_type": "code",
   "execution_count": 12,
   "metadata": {},
   "outputs": [
    {
     "name": "stdout",
     "output_type": "stream",
     "text": [
      "The average reward for each of the 3 bandits: [ 0.    0.25  0.  ]\n",
      "The average reward for each of the 3 bandits: [ 31.25  41.75  34.75]\n",
      "The average reward for each of the 3 bandits: [ 71.25  79.5   68.5 ]\n",
      "The average reward for each of the 3 bandits: [ 108.5   120.    102.25]\n",
      "The average reward for each of the 3 bandits: [ 147.5   155.5   137.25]\n",
      "The average reward for each of the 3 bandits: [ 183.    189.75  174.  ]\n",
      "The average reward for each of the 3 bandits: [ 217.25  230.75  212.25]\n",
      "The average reward for each of the 3 bandits: [ 253.    268.75  247.  ]\n",
      "The average reward for each of the 3 bandits: [ 290.75  307.    283.  ]\n",
      "The average reward for each of the 3 bandits: [ 333.5   344.25  316.  ]\n",
      "The average reward for each of the 3 bandits: [ 370.    382.25  353.  ]\n",
      "The average reward for each of the 3 bandits: [ 408.75  425.75  380.75]\n",
      "The average reward for each of the 3 bandits: [ 449.    465.25  414.5 ]\n",
      "The average reward for each of the 3 bandits: [ 489.75  502.75  446.25]\n",
      "The average reward for each of the 3 bandits: [ 530.5   545.5   479.25]\n",
      "The average reward for each of the 3 bandits: [ 567.5   583.    514.25]\n",
      "The average reward for each of the 3 bandits: [ 609.75  613.75  552.75]\n",
      "The average reward for each of the 3 bandits: [ 645.75  649.    592.  ]\n",
      "The average reward for each of the 3 bandits: [ 687.75  685.    626.  ]\n",
      "The average reward for each of the 3 bandits: [ 727.25  721.75  659.75]\n",
      "The most likely action is 4 for bandit 1\n",
      ":) Yes, its correct!\n",
      "The most likely action is 2 for bandit 2\n",
      ":) Yes, its correct!\n",
      "The most likely action is 1 for bandit 3\n",
      ":) Yes, its correct!\n"
     ]
    }
   ],
   "source": [
    "tf.reset_default_graph()  \n",
    "\n",
    "#Loading the contextual bandit.\n",
    "cBandit = contextual_bandit()\n",
    "#Loading the agent.\n",
    "myAgent = agent(lr=0.001, s_size=cBandit.num_bandits, a_size=cBandit.num_actions)\n",
    "#Lets define the weights which are optimizer during the training phase for making maximum rewards\n",
    "weights = tf.trainable_variables()[0]\n",
    "\n",
    "#The total number of games played by the agent.\n",
    "total_episodes = 10000 \n",
    "#Set the scoreboard to zero.\n",
    "total_rewards = np.zeros([cBandit.num_bandits, cBandit.num_actions])\n",
    "#The chance of taking a random action.\n",
    "e = 0.1\n",
    "\n",
    "init = tf.global_variables_initializer()\n",
    "\n",
    "with tf.Session() as sess:\n",
    "    sess.run(init)\n",
    "    i = 0\n",
    "    while(i<total_episodes):\n",
    "        #Get a random state from the environment.\n",
    "        s = cBandit.getBandit()\n",
    "        \n",
    "        #Choose either a random action or one from our network.\n",
    "        if(np.random.rand(1) < e):\n",
    "            action = np.random.randint(cBandit.num_actions)\n",
    "        else:\n",
    "            action = sess.run(myAgent.choosen_action, feed_dict={myAgent.state_in: [s]})\n",
    "        \n",
    "        #Now lets perform the action(pull arm) to observe the reward. \n",
    "        reward = cBandit.pullArm(action)\n",
    "        \n",
    "        #Update the network\n",
    "        feed_dict = {myAgent.reward_holder: [reward], myAgent.action_holder: [action], myAgent.state_in: [s]}\n",
    "        _, ww = sess.run([myAgent.update, weights], feed_dict=feed_dict)\n",
    "        \n",
    "        #Update our scoreboard\n",
    "        total_rewards[s, action] += reward\n",
    "        if(i%500==0):\n",
    "            print(\"The average reward for each of the \" + str(cBandit.num_bandits) + \" bandits: \" + str(np.mean(total_rewards, axis=1)))\n",
    "        i += 1\n",
    " \n",
    "#Let's evaluate our actions.\n",
    "for a in range(cBandit.num_bandits):\n",
    "    print(\"The most likely action is \" + str(np.argmax(ww[a])+1) + \" for bandit \" + str(a+1))\n",
    "    if(np.argmax(ww[a]) == np.argmin(cBandit.bandits[a])):\n",
    "        print(\":) Yes, its correct!\")\n",
    "    else:\n",
    "        print(\":( No, it isn't!\")"
   ]
  },
  {
   "cell_type": "code",
   "execution_count": null,
   "metadata": {
    "collapsed": true
   },
   "outputs": [],
   "source": []
  }
 ],
 "metadata": {
  "kernelspec": {
   "display_name": "Python 3",
   "language": "python",
   "name": "python3"
  },
  "language_info": {
   "codemirror_mode": {
    "name": "ipython",
    "version": 3
   },
   "file_extension": ".py",
   "mimetype": "text/x-python",
   "name": "python",
   "nbconvert_exporter": "python",
   "pygments_lexer": "ipython3",
   "version": "3.6.2"
  }
 },
 "nbformat": 4,
 "nbformat_minor": 2
}
